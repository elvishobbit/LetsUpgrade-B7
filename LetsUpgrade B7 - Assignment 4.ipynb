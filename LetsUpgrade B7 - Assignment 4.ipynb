{
 "cells": [
  {
   "cell_type": "code",
   "execution_count": null,
   "metadata": {},
   "outputs": [],
   "source": [
    "# Print the first ArmStrong number in the range of 1042000 to 702648265 and exit the loop as soon\n",
    "as you encounter the first armstrong number. Use while loop\n",
    "Output-The first armstrong number is ​ -----------\n",
    "\n",
    "# A number that is equal to the sum of the cubes of its own digits."
   ]
  },
  {
   "cell_type": "code",
   "execution_count": 4,
   "metadata": {},
   "outputs": [
    {
     "name": "stdout",
     "output_type": "stream",
     "text": [
      "The first Armstrong number is 1741725\n"
     ]
    }
   ],
   "source": [
    "for i in range(1042000,702648265):\n",
    "    stored=i\n",
    "    final=0\n",
    "    x=len(str(i))\n",
    "    while(i!=0):\n",
    "        digits=i%10\n",
    "        final=final+digits**x\n",
    "        i=i//10\n",
    "    if stored==final:\n",
    "        print(\"The first Armstrong number is\", stored)\n",
    "        break"
   ]
  },
  {
   "cell_type": "code",
   "execution_count": null,
   "metadata": {},
   "outputs": [],
   "source": []
  }
 ],
 "metadata": {
  "kernelspec": {
   "display_name": "Python 3",
   "language": "python",
   "name": "python3"
  },
  "language_info": {
   "codemirror_mode": {
    "name": "ipython",
    "version": 3
   },
   "file_extension": ".py",
   "mimetype": "text/x-python",
   "name": "python",
   "nbconvert_exporter": "python",
   "pygments_lexer": "ipython3",
   "version": "3.8.3"
  }
 },
 "nbformat": 4,
 "nbformat_minor": 4
}
